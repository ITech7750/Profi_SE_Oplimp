{
 "cells": [
  {
   "cell_type": "markdown",
   "metadata": {},
   "source": [
    "### Задание 1. О переговорках\n",
    "\n",
    "Сперва сделаем допущение, что истиннй номер комнаты задается в программе до этого. Сравнивается истинный и предполагаемый номера. Если они совпали в потоки прерываются (используем библеотеку threading) и логируется (для этого используем библиотеку logging), что он угадал. Все реализованно согласно SOLID"
   ]
  },
  {
   "cell_type": "code",
   "execution_count": 11,
   "metadata": {},
   "outputs": [
    {
     "name": "stderr",
     "output_type": "stream",
     "text": [
      "2024-03-24 13:03:44,171 - igor guessed their room number: 3\n"
     ]
    }
   ],
   "source": [
    "import logging\n",
    "from threading import Thread, Event\n",
    "\n",
    "logging.basicConfig(level=logging.INFO, format='%(asctime)s - %(message)s')\n",
    "\n",
    "class Programmer:\n",
    "    def __init__(self, name, guess_number, true_number, notification):\n",
    "        self.name = name\n",
    "        self.guess_number = guess_number\n",
    "        self.true_number = true_number\n",
    "        self.notification = notification\n",
    "    \n",
    "    def guess_room(self):\n",
    "        if self.guess_number == self.true_number:\n",
    "            logging.info(f\"{self.name} угадали номер комнаты: {self.guess_number}\")\n",
    "            self.notification.set()\n",
    "\n",
    "def main():\n",
    "    try:\n",
    "        seated_programmer_name = input(\"имя: \")\n",
    "        guess_room_number = int(input(\"номер комнаты\"))\n",
    "\n",
    "        true_room_number = 3  # Предполагаемый истинный номер комнаты\n",
    "        victory_notification = Event()\n",
    "        \n",
    "        programmer = Programmer(seated_programmer_name, guess_room_number, true_room_number, victory_notification)\n",
    "        \n",
    "        thread = Thread(target=programmer.guess_room)\n",
    "        thread.start()\n",
    "        \n",
    "        victory_notification.wait()\n",
    "        thread.join()\n",
    "        \n",
    "    except EOFError:\n",
    "        logging.error(\"Unexpected EOF while reading input.\")\n",
    "    except Exception as e:\n",
    "        logging.error(f\"An error occurred: {e}\")\n",
    "\n",
    "if __name__ == \"__main__\":\n",
    "    main()\n"
   ]
  },
  {
   "cell_type": "code",
   "execution_count": 13,
   "metadata": {},
   "outputs": [
    {
     "name": "stdout",
     "output_type": "stream",
     "text": [
      "Defaulting to user installation because normal site-packages is not writeable\n"
     ]
    },
    {
     "name": "stdout",
     "output_type": "stream",
     "text": [
      "Requirement already satisfied: pyinstaller in /home/itech/.local/lib/python3.10/site-packages (6.3.0)\n",
      "Requirement already satisfied: packaging>=22.0 in /home/itech/.local/lib/python3.10/site-packages (from pyinstaller) (23.2)\n",
      "Requirement already satisfied: pyinstaller-hooks-contrib>=2021.4 in /home/itech/.local/lib/python3.10/site-packages (from pyinstaller) (2024.0)\n",
      "Requirement already satisfied: altgraph in /home/itech/.local/lib/python3.10/site-packages (from pyinstaller) (0.17.4)\n",
      "Requirement already satisfied: setuptools>=42.0.0 in /usr/lib/python3/dist-packages (from pyinstaller) (59.6.0)\n",
      "118 INFO: PyInstaller: 6.3.0\n",
      "118 INFO: Python: 3.10.12\n",
      "119 INFO: Platform: Linux-6.5.0-25-generic-x86_64-with-glibc2.35\n",
      "119 INFO: wrote /home/itech/Desktop/University/Я профи/olimp1.spec\n",
      "script '/home/itech/Desktop/University/Я профи/olimp1.py' not found\n"
     ]
    }
   ],
   "source": [
    "!pip install pyinstaller\n",
    "!pyinstaller --onefile olimp1.py\n"
   ]
  },
  {
   "cell_type": "markdown",
   "metadata": {},
   "source": [
    "### без отступлений от условия\n"
   ]
  },
  {
   "cell_type": "code",
   "execution_count": 10,
   "metadata": {},
   "outputs": [
    {
     "ename": "KeyboardInterrupt",
     "evalue": "",
     "output_type": "error",
     "traceback": [
      "\u001b[0;31m---------------------------------------------------------------------------\u001b[0m",
      "\u001b[0;31mKeyboardInterrupt\u001b[0m                         Traceback (most recent call last)",
      "Cell \u001b[0;32mIn[10], line 49\u001b[0m\n\u001b[1;32m     46\u001b[0m         t\u001b[38;5;241m.\u001b[39mjoin()\n\u001b[1;32m     48\u001b[0m \u001b[38;5;28;01mif\u001b[39;00m \u001b[38;5;18m__name__\u001b[39m \u001b[38;5;241m==\u001b[39m \u001b[38;5;124m\"\u001b[39m\u001b[38;5;124m__main__\u001b[39m\u001b[38;5;124m\"\u001b[39m:\n\u001b[0;32m---> 49\u001b[0m     \u001b[43mmain\u001b[49m\u001b[43m(\u001b[49m\u001b[43m)\u001b[49m\n",
      "Cell \u001b[0;32mIn[10], line 44\u001b[0m, in \u001b[0;36mmain\u001b[0;34m()\u001b[0m\n\u001b[1;32m     41\u001b[0m \u001b[38;5;28;01mfor\u001b[39;00m t \u001b[38;5;129;01min\u001b[39;00m threads:\n\u001b[1;32m     42\u001b[0m     t\u001b[38;5;241m.\u001b[39mstart()\n\u001b[0;32m---> 44\u001b[0m \u001b[43mvictory_notification\u001b[49m\u001b[38;5;241;43m.\u001b[39;49m\u001b[43mwait\u001b[49m\u001b[43m(\u001b[49m\u001b[43m)\u001b[49m\n\u001b[1;32m     45\u001b[0m \u001b[38;5;28;01mfor\u001b[39;00m t \u001b[38;5;129;01min\u001b[39;00m threads:\n\u001b[1;32m     46\u001b[0m     t\u001b[38;5;241m.\u001b[39mjoin()\n",
      "File \u001b[0;32m/usr/lib/python3.10/threading.py:607\u001b[0m, in \u001b[0;36mEvent.wait\u001b[0;34m(self, timeout)\u001b[0m\n\u001b[1;32m    605\u001b[0m signaled \u001b[38;5;241m=\u001b[39m \u001b[38;5;28mself\u001b[39m\u001b[38;5;241m.\u001b[39m_flag\n\u001b[1;32m    606\u001b[0m \u001b[38;5;28;01mif\u001b[39;00m \u001b[38;5;129;01mnot\u001b[39;00m signaled:\n\u001b[0;32m--> 607\u001b[0m     signaled \u001b[38;5;241m=\u001b[39m \u001b[38;5;28;43mself\u001b[39;49m\u001b[38;5;241;43m.\u001b[39;49m\u001b[43m_cond\u001b[49m\u001b[38;5;241;43m.\u001b[39;49m\u001b[43mwait\u001b[49m\u001b[43m(\u001b[49m\u001b[43mtimeout\u001b[49m\u001b[43m)\u001b[49m\n\u001b[1;32m    608\u001b[0m \u001b[38;5;28;01mreturn\u001b[39;00m signaled\n",
      "File \u001b[0;32m/usr/lib/python3.10/threading.py:320\u001b[0m, in \u001b[0;36mCondition.wait\u001b[0;34m(self, timeout)\u001b[0m\n\u001b[1;32m    318\u001b[0m \u001b[38;5;28;01mtry\u001b[39;00m:    \u001b[38;5;66;03m# restore state no matter what (e.g., KeyboardInterrupt)\u001b[39;00m\n\u001b[1;32m    319\u001b[0m     \u001b[38;5;28;01mif\u001b[39;00m timeout \u001b[38;5;129;01mis\u001b[39;00m \u001b[38;5;28;01mNone\u001b[39;00m:\n\u001b[0;32m--> 320\u001b[0m         \u001b[43mwaiter\u001b[49m\u001b[38;5;241;43m.\u001b[39;49m\u001b[43macquire\u001b[49m\u001b[43m(\u001b[49m\u001b[43m)\u001b[49m\n\u001b[1;32m    321\u001b[0m         gotit \u001b[38;5;241m=\u001b[39m \u001b[38;5;28;01mTrue\u001b[39;00m\n\u001b[1;32m    322\u001b[0m     \u001b[38;5;28;01melse\u001b[39;00m:\n",
      "\u001b[0;31mKeyboardInterrupt\u001b[0m: "
     ]
    }
   ],
   "source": [
    "import random\n",
    "import logging\n",
    "from threading import Thread, Event\n",
    "\n",
    "logging.basicConfig(level=logging.INFO, format='%(asctime)s - %(message)s')\n",
    "\n",
    "class Programmer:\n",
    "    def __init__(self, name):\n",
    "        self.name = name\n",
    "    \n",
    "    def guess_room(self, room_number, notification):\n",
    "        if room_number == self.name:\n",
    "            logging.info(f\"{self.name} угадали номер комнаты: {self.name}\")\n",
    "            notification.set()\n",
    "\n",
    "def play_game(programmer, room_number, notification):\n",
    "    programmer.guess_room(room_number, notification)\n",
    "\n",
    "def main():\n",
    "    try:\n",
    "        seated_programmer_name = input(\"введите ваше имя \")\n",
    "        \n",
    "        names = []\n",
    "        n = int(input(\"введите количество комнат\"))\n",
    "        \n",
    "        for _ in range(n - 1):\n",
    "            name, _ = input().split()\n",
    "            names.append(name)\n",
    "        \n",
    "        room_number = ''\n",
    "        for idx, name in enumerate(names, 1):\n",
    "            if name == seated_programmer_name:\n",
    "                room_number = str(idx)\n",
    "                break\n",
    "        \n",
    "        programmers = [Programmer(name) for name in names]\n",
    "        \n",
    "        victory_notification = Event()\n",
    "        \n",
    "        threads = [Thread(target=play_game, args=(programmer, room_number, victory_notification)) for programmer in programmers]\n",
    "        \n",
    "        for t in threads:\n",
    "            t.start()\n",
    "        \n",
    "        victory_notification.wait()\n",
    "        for t in threads:\n",
    "            t.join()\n",
    "    \n",
    "    except EOFError:\n",
    "        logging.error(\"Unexpected EOF while reading input.\")\n",
    "    except Exception as e:\n",
    "        logging.error(f\"An error occurred: {e}\")\n",
    "\n",
    "if __name__ == \"__main__\":\n",
    "    main()\n"
   ]
  },
  {
   "cell_type": "markdown",
   "metadata": {},
   "source": [
    "\n",
    "## Задание 2. Поиск предмета (хвостовки) "
   ]
  },
  {
   "cell_type": "markdown",
   "metadata": {},
   "source": [
    "Начать можно с простого деления \"пополам\".\n",
    "Начинаем с того, что \n",
    "Делим 80 сундуков на две группы по 40. Один студент проверяет каждую группу.\n",
    "Если не нашли, то делим оставшиеся сундуку еще раз \"пополам\" в посиске золотой хвостовки.\n",
    "    ...\n",
    "повторяем действие.\n",
    "Таким образом нам потребуется всего 7 студентов."
   ]
  },
  {
   "cell_type": "markdown",
   "metadata": {},
   "source": [
    "Для оптимизации данного решения можно воспользоваться алгоритмом бинарного поиска. Вместо того чтобы каждый раз делить все сундуки на две равные группы, мы можем использовать бинарный поиск для определения, в какой половине сундуков находится 'Золотая хвостовка'. Таким образом, мы сможем сократить количество шагов, необходимых для нахождения предмета.\n",
    "\n",
    "Алгоритм с использованием бинарного поиска:\n",
    "\n",
    "1. Разделим сундуки на две группы, количество сундуков в каждой группе будет равно половине общего числа сундуков.\n",
    "2. Один студент проверяет сундуки в первой группе.\n",
    "3. Если 'Золотая хвостовка' найдена в первой половине, процедура заканчивается.\n",
    "4. Иначе, далее остаются только сундуки, которые не были проверены. Продолжаем делить оставшиеся сундуки на две равные части.\n",
    "5. Следующий студент берет на себя проверку сундуков в одной из новых групп.\n",
    "6. Повторяем шаги 3-5, пока 'Золотая хвостовка' не будет найдена.\n",
    "Сложность нашего алгоритма (бинарного посика) O(log_{2}(n))\n",
    "При n равном 80 получаем 6.32, что округляется в большую сторону до 7, тк не может быть дробной итерации.\n",
    "\n",
    "С использованием бинарного поиска нам потребуется всего 7 студентов для гарантированного нахождения 'Золотой хвостовки' вовремя. "
   ]
  },
  {
   "cell_type": "code",
   "execution_count": 5,
   "metadata": {},
   "outputs": [
    {
     "name": "stdout",
     "output_type": "stream",
     "text": [
      "Испытатель 1 проверяет сундук с номером 40\n",
      "Испытатель 2 проверяет сундук с номером 60\n",
      "Испытатель 3 проверяет сундук с номером 70\n",
      "Испытатель 4 проверяет сундук с номером 75\n",
      "Испытатель 5 проверяет сундук с номером 72\n",
      "Испытатель 6 проверяет сундук с номером 73\n",
      "Испытатель 7 проверяет сундук с номером 72\n",
      "Хвостовка найдена!\n",
      "Итог 7\n"
     ]
    }
   ],
   "source": [
    "class ChestSearch:\n",
    "    def __init__(self, n):\n",
    "        self.total_chests = n\n",
    "        self.found = False\n",
    "    \n",
    "    def binary_search_tail(self, start, end):\n",
    "        mid = (start + end) // 2\n",
    "        if mid == end:\n",
    "            self.found = True\n",
    "            return mid\n",
    "        return mid\n",
    "    \n",
    "    def find_golden_tail(self):\n",
    "        start = 1\n",
    "        end = self.total_chests\n",
    "        step = 1\n",
    "        while not self.found:\n",
    "            chest = self.binary_search_tail(start, end)\n",
    "            print(f\"Испытатель {step} проверяет сундук с номером {chest}\")\n",
    "            if self.found:\n",
    "                print(\"Хвостовка найдена!\")\n",
    "                return step\n",
    "            else:\n",
    "                if chest % 2 == 0:\n",
    "                    start = chest + 1\n",
    "                else:\n",
    "                    end = chest - 1\n",
    "            step += 1\n",
    "        return step\n",
    "\n",
    "# Создаем объект\n",
    "chests = 80\n",
    "search = ChestSearch(chests)\n",
    "\n",
    "# Находим 'Золотую хвостовку'\n",
    "result = search.find_golden_tail()\n",
    "print(f\"Итог {result}\")\n"
   ]
  },
  {
   "cell_type": "markdown",
   "metadata": {},
   "source": [
    "Теперь добавим возможность пользователю выпольнить поиск "
   ]
  },
  {
   "cell_type": "code",
   "execution_count": 3,
   "metadata": {},
   "outputs": [
    {
     "name": "stdout",
     "output_type": "stream",
     "text": [
      "Студентов: 1, Проверено сундуков: 80\n",
      "Студентов: 2, Проверено сундуков: 80\n",
      "Студентов: 3, Проверено сундуков: 80\n",
      "Студентов: 4, Проверено сундуков: 80\n",
      "Студентов: 5, Проверено сундуков: 80\n",
      "Студентов: 6, Проверено сундуков: 80\n",
      "Студентов: 7, Проверено сундуков: 80\n",
      "Студентов: 8, Проверено сундуков: 80\n",
      "Минимальное количество испытателей: 8\n"
     ]
    }
   ],
   "source": [
    "class ChestSearchAlgorithm:\n",
    "    def __init__(self):\n",
    "        self.students = 0\n",
    "        self.attempts = 0\n",
    "        self.chests_checked = 0\n",
    "\n",
    "    def binary_search_tail(self, start, end, group_num):\n",
    "        middle = (start + end) // 2\n",
    "        self.attempts += 1\n",
    "        group_size = end - start\n",
    "        self.chests_checked += group_size\n",
    "\n",
    "        tail_found = input(f\"Студент {group_num} нашел ли 'Золотую хвостовку' в сундуке с номером {middle}? (да/нет): \")\n",
    "\n",
    "        if tail_found.lower() == 'да':\n",
    "            return True\n",
    "        else:\n",
    "            return False\n",
    "\n",
    "    def find_minimum_students(self):\n",
    "        success = False\n",
    "        while not success:\n",
    "            self.students += 1\n",
    "            self.attempts = 0\n",
    "            self.chests_checked = 0\n",
    "\n",
    "            group = 1\n",
    "            success = self.binary_search_tail(1, 81, group)\n",
    "\n",
    "            while not success and self.chests_checked < 80:\n",
    "                group += 1\n",
    "                start = 1 + (group - 1) * 40\n",
    "                end = min(group * 40, 81)\n",
    "\n",
    "                success = self.binary_search_tail(start, end, group)\n",
    "\n",
    "            print(f\"Студентов: {self.students}, Проверено сундуков: {self.chests_checked}\")\n",
    "\n",
    "        return self.students\n",
    "\n",
    "def main():\n",
    "    search_algorithm = ChestSearchAlgorithm()\n",
    "    min_students = search_algorithm.find_minimum_students()\n",
    "\n",
    "    print(f\"Минимальное количество испытателей: {min_students}\")\n",
    "\n",
    "if __name__ == \"__main__\":\n",
    "    main()\n"
   ]
  },
  {
   "cell_type": "markdown",
   "metadata": {},
   "source": [
    "## Задание 3. Умный фильтр пользователей\n"
   ]
  },
  {
   "cell_type": "markdown",
   "metadata": {},
   "source": [
    "### Алгоритм, который можно использовать для поиска пользователей в базе данных (БД):\n",
    "\n",
    "1. Подключение к базе данных: Сначала устанавливается соединение с базой данных. Подключение может быть установлено с помощью библиотеки или API для работы с базой данных, такими как sqlite3 для SQLite\n",
    "\n",
    "2. Выбор стратегии поиска: Определяем, какой тип поиска мы хотим выполнить: по имени, фамилии, полному имени или email. Создаем соответствующий объект стратегии поиска (например, FirstNameSearch, LastNameSearch, FullNameSearch, EmailSearch).\n",
    "\n",
    "3. Формирование SQL-запроса и выполнение запроса: Используем данные запроса, при необходимости выполняем преобразования, например, изменение на lower_case для игнорирования регистра.\n",
    "\n",
    "4. Получение результатов поиска с БД\n",
    "\n",
    "5. Отображение результатов и закрытие соединения с БД\n",
    "\n"
   ]
  },
  {
   "cell_type": "markdown",
   "metadata": {},
   "source": [
    "### Подключение к бд и ее запонение тестовыми данными"
   ]
  },
  {
   "cell_type": "code",
   "execution_count": 1,
   "metadata": {},
   "outputs": [],
   "source": [
    "import sqlite3\n",
    "\n",
    "# Создаем и заполняем таблицу пользователей и выполним подключение к БД\n",
    "conn = sqlite3.connect('users.db')\n",
    "cursor = conn.cursor()\n",
    "\n",
    "cursor.execute('''CREATE TABLE IF NOT EXISTS users (\n",
    "                    id INTEGER PRIMARY KEY,\n",
    "                    first_name TEXT,\n",
    "                    last_name TEXT,\n",
    "                    middle_name TEXT,\n",
    "                    email TEXT\n",
    "                  )''')\n",
    "\n",
    "users = [\n",
    "    ('Иван', 'Иванов', 'Иванович', 'ivanov@example.com'),\n",
    "    ('Петр', 'Петров', 'Петрович', 'petrov@example.com'),\n",
    "    ('Мария', 'Сидорова', 'Петровна', 'sidorova@example.com'),\n",
    "    ('Анна', 'Кузнецова', 'Александровна', 'kuznetsova@example.com')\n",
    "]\n",
    "\n",
    "cursor.executemany('INSERT INTO users (first_name, last_name, middle_name, email) VALUES (?, ?, ?, ?)', users)\n",
    "\n",
    "conn.commit()\n",
    "conn.close()\n",
    "\n",
    "# Классы для поиска пользователей\n",
    "# По имени\n",
    "class FirstNameSearch:\n",
    "    def search(self, cursor, query):\n",
    "        cursor.execute(\"SELECT * FROM users WHERE first_name LIKE ?\", ('%' + query + '%',))\n",
    "        return cursor.fetchall()\n",
    "\n",
    "# По фамилии\n",
    "class LastNameSearch:\n",
    "    def search(self, cursor, query):\n",
    "        cursor.execute(\"SELECT * FROM users WHERE last_name LIKE ?\", ('%' + query + '%',))\n",
    "        return cursor.fetchall()\n",
    "\n",
    "# По отчеству\n",
    "class FullNameSearch:\n",
    "    def search(self, cursor, query):\n",
    "        cursor.execute(\"SELECT * FROM users WHERE first_name || ' ' || last_name || ' ' || middle_name LIKE ?\", ('%' + query + '%',))\n",
    "        return cursor.fetchall()\n",
    "\n",
    "# по электронной почте\n",
    "class EmailSearch:\n",
    "    def search(self, cursor, query):\n",
    "        cursor.execute(\"SELECT * FROM users WHERE email LIKE ?\", ('%' + query + '%',))\n",
    "        return cursor.fetchall()\n",
    "\n",
    "class UserSearcher:\n",
    "    def search_users(self, strategy, query):\n",
    "        conn = sqlite3.connect('users.db')\n",
    "        cursor = conn.cursor()\n",
    "\n",
    "        results = strategy.search(cursor, query)\n",
    "\n",
    "        conn.close()\n",
    "\n",
    "        return results\n",
    "\n"
   ]
  },
  {
   "cell_type": "markdown",
   "metadata": {},
   "source": [
    "### Пример использования поиска по всем параметрам\n",
    "Мы рассматриваем все возможные статегии поиска [FirstNameSearch(), LastNameSearch() ...], представленные в классе стратегии пользователя (стараемся придерживаться SOLID)\n",
    "\n",
    "Поместите свой запрос в search_query для поиска в БД"
   ]
  },
  {
   "cell_type": "code",
   "execution_count": 64,
   "metadata": {},
   "outputs": [
    {
     "name": "stdout",
     "output_type": "stream",
     "text": [
      "Результаты по запросу 'Иван':\n",
      "(1, 'Иван', 'Иванов', 'Иванович', 'ivanov@example.com')\n",
      "(5, 'Иван', 'Иванов', 'Иванович', 'ivanov@example.com')\n",
      "(9, 'Иван', 'Иванов', 'Иванович', 'ivanov@example.com')\n",
      "(13, 'Иван', 'Иванов', 'Иванович', 'ivanov@example.com')\n",
      "(1, 'Иван', 'Иванов', 'Иванович', 'ivanov@example.com')\n",
      "(5, 'Иван', 'Иванов', 'Иванович', 'ivanov@example.com')\n",
      "(9, 'Иван', 'Иванов', 'Иванович', 'ivanov@example.com')\n",
      "(13, 'Иван', 'Иванов', 'Иванович', 'ivanov@example.com')\n",
      "(1, 'Иван', 'Иванов', 'Иванович', 'ivanov@example.com')\n",
      "(5, 'Иван', 'Иванов', 'Иванович', 'ivanov@example.com')\n",
      "(9, 'Иван', 'Иванов', 'Иванович', 'ivanov@example.com')\n",
      "(13, 'Иван', 'Иванов', 'Иванович', 'ivanov@example.com')\n",
      "Пользователи не найдено .\n",
      "Результаты по запросу 'Иванов':\n",
      "Пользователи не найдено .\n",
      "(1, 'Иван', 'Иванов', 'Иванович', 'ivanov@example.com')\n",
      "(5, 'Иван', 'Иванов', 'Иванович', 'ivanov@example.com')\n",
      "(9, 'Иван', 'Иванов', 'Иванович', 'ivanov@example.com')\n",
      "(13, 'Иван', 'Иванов', 'Иванович', 'ivanov@example.com')\n",
      "(1, 'Иван', 'Иванов', 'Иванович', 'ivanov@example.com')\n",
      "(5, 'Иван', 'Иванов', 'Иванович', 'ivanov@example.com')\n",
      "(9, 'Иван', 'Иванов', 'Иванович', 'ivanov@example.com')\n",
      "(13, 'Иван', 'Иванов', 'Иванович', 'ivanov@example.com')\n",
      "Пользователи не найдено .\n",
      "Результаты по запросу 'Иванович':\n",
      "Пользователи не найдено .\n",
      "Пользователи не найдено .\n",
      "(1, 'Иван', 'Иванов', 'Иванович', 'ivanov@example.com')\n",
      "(5, 'Иван', 'Иванов', 'Иванович', 'ivanov@example.com')\n",
      "(9, 'Иван', 'Иванов', 'Иванович', 'ivanov@example.com')\n",
      "(13, 'Иван', 'Иванов', 'Иванович', 'ivanov@example.com')\n",
      "Пользователи не найдено .\n"
     ]
    }
   ],
   "source": [
    "\n",
    "searcher = UserSearcher()\n",
    "\n",
    "search_query = 'Иван Иванов Иванович'\n",
    "queries_list = search_query.split()  # Разбиваем строку на список запросов\n",
    "\n",
    "for query in queries_list:\n",
    "    print(f\"Результаты по запросу '{query}':\")\n",
    "    for strategy in [FirstNameSearch(), LastNameSearch(), FullNameSearch(), EmailSearch()]:\n",
    "        results = searcher.search_users(strategy, query)\n",
    "        if results:\n",
    "            for user in results:\n",
    "                print(user)\n",
    "            \n",
    "        else:\n",
    "            print(\"Пользователи не найдено .\")"
   ]
  },
  {
   "cell_type": "code",
   "execution_count": 61,
   "metadata": {},
   "outputs": [
    {
     "name": "stdout",
     "output_type": "stream",
     "text": [
      "Результаты по запросу 'ivanov@example.com':\n",
      "(1, 'Иван', 'Иванов', 'Иванович', 'ivanov@example.com')\n",
      "(5, 'Иван', 'Иванов', 'Иванович', 'ivanov@example.com')\n",
      "(9, 'Иван', 'Иванов', 'Иванович', 'ivanov@example.com')\n"
     ]
    }
   ],
   "source": [
    "# Класс для поиска по полному имени\n",
    "class FullSearch:\n",
    "    def search(self, cursor, query, ignore_case=False):\n",
    "        if ignore_case:\n",
    "            cursor.execute(\"\"\"SELECT * FROM users \n",
    "                              WHERE lower(first_name || ' ' || last_name || ' ' || middle_name || email) LIKE ?\"\"\", ('%' + query.lower() + '%',))\n",
    "        else:\n",
    "            cursor.execute(\"\"\"SELECT * FROM users \n",
    "                              WHERE first_name || ' ' || last_name || ' ' || middle_name || email LIKE ?\"\"\", ('%' + query + '%',))\n",
    "        return cursor.fetchall()\n",
    "\n",
    "#  для учета регистра добавим ignore_case в UserSearcher\n",
    "class UserSearcher:\n",
    "    def search_users(self, strategy, query,ignore_case):\n",
    "        conn = sqlite3.connect('users.db')\n",
    "        cursor = conn.cursor()\n",
    "\n",
    "        results = strategy.search(cursor, query)\n",
    "\n",
    "        conn.close()\n",
    "\n",
    "        return results\n",
    "\n",
    "# Пример использования с возможностью игнорирования регистра\n",
    "searcher = UserSearcher()\n",
    "\n",
    "search_query = \"ivanov@example.com\"\n",
    "ignore_case = False  # Игнорировать регистр\n",
    "\n",
    "print(f\"Результаты по запросу '{search_query}':\")\n",
    "for strategy in [FullSearch()]:\n",
    "    results = searcher.search_users(strategy, search_query,ignore_case)\n",
    "    if results:\n",
    "        for user in results:\n",
    "            print(user)\n",
    "    else:\n",
    "        print(\"Пользователи не найдены.\")\n"
   ]
  },
  {
   "cell_type": "markdown",
   "metadata": {},
   "source": [
    "## Решения демоверсии также опубликованно на github:\n",
    "\n",
    " 1. https://github.com/ITech7750/Profi_SE\n",
    "\n",
    " 2. https://github.com/ITech7750/spring-jpa-rest-api\n",
    "\n",
    " 3. https://github.com/ITech7750/channel-ratings-predictor"
   ]
  }
 ],
 "metadata": {
  "kernelspec": {
   "display_name": "Python 3",
   "language": "python",
   "name": "python3"
  },
  "language_info": {
   "codemirror_mode": {
    "name": "ipython",
    "version": 3
   },
   "file_extension": ".py",
   "mimetype": "text/x-python",
   "name": "python",
   "nbconvert_exporter": "python",
   "pygments_lexer": "ipython3",
   "version": "3.10.12"
  }
 },
 "nbformat": 4,
 "nbformat_minor": 2
}
